{
 "metadata": {
  "name": ""
 },
 "nbformat": 3,
 "nbformat_minor": 0,
 "worksheets": [
  {
   "cells": [
    {
     "cell_type": "code",
     "collapsed": false,
     "input": [
      "%pylab inline"
     ],
     "language": "python",
     "metadata": {},
     "outputs": [
      {
       "output_type": "stream",
       "stream": "stdout",
       "text": [
        "Populating the interactive namespace from numpy and matplotlib\n"
       ]
      }
     ],
     "prompt_number": 2
    },
    {
     "cell_type": "markdown",
     "metadata": {},
     "source": [
      "The main objective of this notebook is to read a file with 3D positions in the Bolshoi simulation and find the matching T-Web data from the MultiDark database "
     ]
    },
    {
     "cell_type": "code",
     "collapsed": false,
     "input": [
      "#this defines the range of the ix, iy, iz integers in the simulation\n",
      "n_bits = 10\n",
      "n_size = 2**n_bits\n",
      "lbox = 250.0"
     ],
     "language": "python",
     "metadata": {},
     "outputs": [],
     "prompt_number": 12
    },
    {
     "cell_type": "code",
     "collapsed": false,
     "input": [
      "raw_data = loadtxt('../data/pairs2s.txt')"
     ],
     "language": "python",
     "metadata": {},
     "outputs": [],
     "prompt_number": 13
    },
    {
     "cell_type": "code",
     "collapsed": false,
     "input": [
      "x_A = raw_data[:,0]\n",
      "y_A = raw_data[:,1]\n",
      "z_A = raw_data[:,2]\n",
      "ix_A = int_((x_A/lbox)*n_size)\n",
      "iy_A = int_((y_A/lbox)*n_size)\n",
      "iz_A = int_((z_A/lbox)*n_size)"
     ],
     "language": "python",
     "metadata": {},
     "outputs": [],
     "prompt_number": 14
    },
    {
     "cell_type": "code",
     "collapsed": false,
     "input": [
      "print ix_A"
     ],
     "language": "python",
     "metadata": {},
     "outputs": [
      {
       "output_type": "stream",
       "stream": "stdout",
       "text": [
        "[  4  31  40  47  50  55 133 188 197 280 284 286 287 292 294 296 309 323\n",
        " 335 373 378 386 392 418 437 452 467 479 502 558 572 596 598 600 637 676\n",
        " 682 701 748 764 774 788 798 913 919 935 983]\n"
       ]
      }
     ],
     "prompt_number": 15
    },
    {
     "cell_type": "code",
     "collapsed": false,
     "input": [],
     "language": "python",
     "metadata": {},
     "outputs": []
    }
   ],
   "metadata": {}
  }
 ]
}