{
 "metadata": {
  "name": ""
 },
 "nbformat": 3,
 "nbformat_minor": 0,
 "worksheets": [
  {
   "cells": [
    {
     "cell_type": "code",
     "collapsed": false,
     "input": [
      "%pylab inline\n",
      "from subprocess import call\n",
      "import os.path"
     ],
     "language": "python",
     "metadata": {},
     "outputs": [
      {
       "output_type": "stream",
       "stream": "stdout",
       "text": [
        "Populating the interactive namespace from numpy and matplotlib\n"
       ]
      }
     ],
     "prompt_number": 2
    },
    {
     "cell_type": "markdown",
     "metadata": {},
     "source": [
      "The main objective of this notebook is to read a file with 3D positions in the Bolshoi simulation and find the matching T-Web data from the MultiDark database "
     ]
    },
    {
     "cell_type": "code",
     "collapsed": false,
     "input": [
      "#this defines the range of the ix, iy, iz integers in the simulation\n",
      "n_bits = 10\n",
      "n_size = 2**n_bits\n",
      "lbox = 250.0"
     ],
     "language": "python",
     "metadata": {},
     "outputs": [],
     "prompt_number": 3
    },
    {
     "cell_type": "code",
     "collapsed": false,
     "input": [
      "pairs_name = \"lgsample_vrn\"\n",
      "data_path=\"../data/general/\"\n",
      "raw_data = loadtxt('%s/pairs%s.txt'%(data_path, pairs_name))"
     ],
     "language": "python",
     "metadata": {},
     "outputs": [],
     "prompt_number": 4
    },
    {
     "cell_type": "code",
     "collapsed": false,
     "input": [
      "x_A = raw_data[:,0]\n",
      "y_A = raw_data[:,1]\n",
      "z_A = raw_data[:,2]\n",
      "ix_A = int_((x_A/lbox)*n_size)\n",
      "iy_A = int_((y_A/lbox)*n_size)\n",
      "iz_A = int_((z_A/lbox)*n_size)\n",
      "\n",
      "x_B = raw_data[:,4]\n",
      "y_B = raw_data[:,5]\n",
      "z_B = raw_data[:,6]\n",
      "ix_B = int_((x_B/lbox)*n_size)\n",
      "iy_B = int_((y_B/lbox)*n_size)\n",
      "iz_B = int_((z_B/lbox)*n_size)\n",
      "\n",
      "n_points = size(x_A)"
     ],
     "language": "python",
     "metadata": {},
     "outputs": [],
     "prompt_number": 5
    },
    {
     "cell_type": "code",
     "collapsed": false,
     "input": [
      "def data_base_query(query, outputfile, password=\"lala\", username=\"forero\"):\n",
      "    website = \"http://wget.multidark.org/MyDB?action=doQuery&SQL=\"\n",
      "    wget_options=\"--auth-no-challenge --content-disposition --cookies=on --keep-session-cookies --save-cookies=cookie.txt --load-cookies=cookie.txt\" \n",
      "    wget_options=wget_options+\" -O \"+outputfile +\" \"\n",
      "    wget_command=\"wget --http-user=\"+username+\" --http-passwd=\"+password+\" \"+wget_options\n",
      "    command = wget_command + \"\\\"\"+ website + query+\"\\\"\"\n",
      "    #print command\n",
      "    retcode = call(command,shell=True)"
     ],
     "language": "python",
     "metadata": {},
     "outputs": [],
     "prompt_number": 6
    },
    {
     "cell_type": "code",
     "collapsed": false,
     "input": [
      "def get_web_points(ix, iy, iz, n_web=256, n_size=1024, pairs_name=\"pairs2s\", label=\"A\", data_path=\"../d/\"):\n",
      "    ratio = n_size/n_web\n",
      "    n_items = size(ix)\n",
      "    for i in range(n_items):\n",
      "        query=\" select * from Bolshoi..Tweb%d m where floor(m.ix) = %d\"%(n_web, floor(ix[i]/ratio))\n",
      "        query= query+\" and floor(m.iy) = %d\"%(floor(iy[i]/ratio))\n",
      "        query= query+\" and floor(m.iz) = %d\"%(floor(iz[i]/ratio))\n",
      "        fileout = \"%s/Tweb%d_env_%s_cell_%d_%s.dat\"%(data_path, n_web, pairs_name, i, label)\n",
      "        if( not os.path.exists(fileout)):\n",
      "            data_base_query(query, fileout, password=\"lapiz5borra\")"
     ],
     "language": "python",
     "metadata": {},
     "outputs": [],
     "prompt_number": 7
    },
    {
     "cell_type": "code",
     "collapsed": false,
     "input": [
      "get_web_points(ix_A, iy_A, iz_A, n_web=256, n_size=1024, pairs_name=pairs_name, label=\"A\", data_path=data_path)\n",
      "get_web_points(ix_B, iy_B, iz_B, n_web=256, n_size=1024, pairs_name=pairs_name, label=\"B\", data_path=data_path)\n",
      "#get_web_points(ix_A, iy_A, iz_A, n_web=512, n_size=1024, pairs_name=pairs_name, label=\"A\", data_path=data_path)\n",
      "#get_web_points(ix_B, iy_B, iz_B, n_web=512, n_size=1024, pairs_name=pairs_name, label=\"B\", data_path=data_path)"
     ],
     "language": "python",
     "metadata": {},
     "outputs": [],
     "prompt_number": 8
    },
    {
     "cell_type": "markdown",
     "metadata": {},
     "source": [
      "At this point the aim is to put together all the information from the database"
     ]
    },
    {
     "cell_type": "code",
     "collapsed": false,
     "input": [
      "def gather_info(n_web=256, pairs_name=pairs_name, data_path=\"../data/\"):\n",
      "    raw_data = loadtxt('%s/data_%s.txt'%(data_path, pairs_name))\n",
      "    n_items = size(raw_data[:,0])\n",
      "    all_data = zeros((n_items, 18))\n",
      "    fileout = \"%s/Tweb%d_%s.dat\"%(data_path, n_web, pairs_name)\n",
      "    out = open(fileout,\"w\")\n",
      "    out.write(\"# lambda_1A lambda_2A lambda_3A eigen1_xA eigen1_yA eigen1_zA eigen3_xA eigen3_yA eigen3_zA\")\n",
      "    out.write(\"# lambda_1B lambda_2B lambda_3B eigen1_xB eigen1_yB eigen1_zB eigen3_xB eigen3_yB eigen3_zB \\n\")\n",
      "    out.write(\"# %d\\n\"%(n_items))\n",
      "    for i in range(n_items):\n",
      "        filein_A = \"%s/Tweb%d_env_%s_cell_%d_%s.dat\"%(data_path, n_web, pairs_name, i, \"A\")\n",
      "        filein_B = \"%s/Tweb%d_env_%s_cell_%d_%s.dat\"%(data_path, n_web, pairs_name, i, \"B\")\n",
      "    #    print filein_B\n",
      "        data_A = loadtxt(filein_A, delimiter=\",\", skiprows=24)\n",
      "        data_B = loadtxt(filein_B, delimiter=\",\", skiprows=24)\n",
      "   #     print filein_B\n",
      "        all_data[i,0:6] = data_A[5:11]\n",
      "        all_data[i,6:9] = data_A[14:17]\n",
      "        all_data[i,9:15] = data_B[5:11]\n",
      "        all_data[i,15:18] = data_B[14:17]\n",
      "  #      print all_data[i,0:6]\n",
      "        for j in range(18):\n",
      "            out.write(\"%f \"%(all_data[i,j]))\n",
      "        out.write(\"\\n\")\n",
      "    out.close()\n",
      "        "
     ],
     "language": "python",
     "metadata": {},
     "outputs": [],
     "prompt_number": 18
    },
    {
     "cell_type": "code",
     "collapsed": false,
     "input": [
      "gather_info(n_web=256, pairs_name=\"lgsample_vrn\",data_path=\"../data/general/\")\n",
      "gather_info(n_web=256, pairs_name=\"pairs2s\",data_path=\"../data/2sigma/\")\n",
      "gather_info(n_web=256, pairs_name=\"pairs3s\",data_path=\"../data/3sigma/\")\n",
      "#gather_info(n_web=512, pairs_name=\"pairs2s\")\n",
      "#gather_info(n_web=512, pairs_name=\"pairs3s\")"
     ],
     "language": "python",
     "metadata": {},
     "outputs": [],
     "prompt_number": 22
    },
    {
     "cell_type": "code",
     "collapsed": false,
     "input": [],
     "language": "python",
     "metadata": {},
     "outputs": []
    }
   ],
   "metadata": {}
  }
 ]
}