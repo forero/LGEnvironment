{
 "metadata": {
  "name": ""
 },
 "nbformat": 3,
 "nbformat_minor": 0,
 "worksheets": [
  {
   "cells": [
    {
     "cell_type": "code",
     "collapsed": false,
     "input": [
      "%pylab inline\n",
      "from subprocess import call\n",
      "import os.path"
     ],
     "language": "python",
     "metadata": {},
     "outputs": [
      {
       "output_type": "stream",
       "stream": "stdout",
       "text": [
        "Populating the interactive namespace from numpy and matplotlib\n"
       ]
      }
     ],
     "prompt_number": 10
    },
    {
     "cell_type": "markdown",
     "metadata": {},
     "source": [
      "The main objective of this notebook is to read a file with 3D positions in the Bolshoi simulation and find the matching T-Web data from the MultiDark database "
     ]
    },
    {
     "cell_type": "code",
     "collapsed": false,
     "input": [
      "#this defines the range of the ix, iy, iz integers in the simulation\n",
      "n_bits = 10\n",
      "n_size = 2**n_bits\n",
      "lbox = 250.0"
     ],
     "language": "python",
     "metadata": {},
     "outputs": [],
     "prompt_number": 11
    },
    {
     "cell_type": "code",
     "collapsed": false,
     "input": [
      "pairs_name = \"pairs3s\"\n",
      "raw_data = loadtxt('../data/%s.txt'%(pairs_name))"
     ],
     "language": "python",
     "metadata": {},
     "outputs": [],
     "prompt_number": 12
    },
    {
     "cell_type": "code",
     "collapsed": false,
     "input": [
      "x_A = raw_data[:,0]\n",
      "y_A = raw_data[:,1]\n",
      "z_A = raw_data[:,2]\n",
      "ix_A = int_((x_A/lbox)*n_size)\n",
      "iy_A = int_((y_A/lbox)*n_size)\n",
      "iz_A = int_((z_A/lbox)*n_size)\n",
      "\n",
      "x_B = raw_data[:,4]\n",
      "y_B = raw_data[:,5]\n",
      "z_B = raw_data[:,6]\n",
      "ix_B = int_((x_B/lbox)*n_size)\n",
      "iy_B = int_((y_B/lbox)*n_size)\n",
      "iz_B = int_((z_B/lbox)*n_size)\n",
      "\n",
      "n_points = size(x_A)"
     ],
     "language": "python",
     "metadata": {},
     "outputs": [],
     "prompt_number": 13
    },
    {
     "cell_type": "code",
     "collapsed": false,
     "input": [
      "def data_base_query(query, outputfile, password=\"lala\", username=\"forero\"):\n",
      "    website = \"http://wget.multidark.org/MyDB?action=doQuery&SQL=\"\n",
      "    wget_options=\"--auth-no-challenge --content-disposition --cookies=on --keep-session-cookies --save-cookies=cookie.txt --load-cookies=cookie.txt\" \n",
      "    wget_options=wget_options+\" -O \"+outputfile +\" \"\n",
      "    wget_command=\"wget --http-user=\"+username+\" --http-passwd=\"+password+\" \"+wget_options\n",
      "    command = wget_command + \"\\\"\"+ website + query+\"\\\"\"\n",
      "    #print command\n",
      "    retcode = call(command,shell=True)"
     ],
     "language": "python",
     "metadata": {},
     "outputs": [],
     "prompt_number": 14
    },
    {
     "cell_type": "code",
     "collapsed": false,
     "input": [
      "def get_web_points(ix, iy, iz, n_web=256, n_size=1024, pairs_name=\"pairs2s\", label=\"A\"):\n",
      "    ratio = n_size/n_web\n",
      "    n_items = size(ix)\n",
      "    for i in range(n_items):\n",
      "        query=\" select * from Bolshoi..Tweb%d m where floor(m.ix) = %d\"%(n_web, floor(ix[i]/ratio))\n",
      "        query= query+\" and floor(m.iy) = %d\"%(floor(iy[i]/ratio))\n",
      "        query= query+\" and floor(m.iz) = %d\"%(floor(iz[i]/ratio))\n",
      "        fileout = \"../data/Tweb%d_env_%s_cell_%d_%s.dat\"%(n_web, pairs_name, i, label)\n",
      "        if( not os.path.exists(fileout)):\n",
      "            data_base_query(query, fileout, password=\"lapiz5borra\")"
     ],
     "language": "python",
     "metadata": {},
     "outputs": [],
     "prompt_number": 17
    },
    {
     "cell_type": "code",
     "collapsed": false,
     "input": [
      "get_web_points(ix_A, iy_A, iz_A, n_web=256, n_size=1024, pairs_name=pairs_name, label=\"A\")\n",
      "get_web_points(ix_A, iy_A, iz_A, n_web=512, n_size=1024, pairs_name=pairs_name, label=\"A\")\n",
      "get_web_points(ix_B, iy_B, iz_B, n_web=256, n_size=1024, pairs_name=pairs_name, label=\"B\")\n",
      "get_web_points(ix_B, iy_B, iz_B, n_web=512, n_size=1024, pairs_name=pairs_name, label=\"B\")"
     ],
     "language": "python",
     "metadata": {},
     "outputs": [],
     "prompt_number": 18
    },
    {
     "cell_type": "code",
     "collapsed": false,
     "input": [],
     "language": "python",
     "metadata": {},
     "outputs": []
    }
   ],
   "metadata": {}
  }
 ]
}